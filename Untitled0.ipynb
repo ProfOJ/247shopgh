{
  "nbformat": 4,
  "nbformat_minor": 0,
  "metadata": {
    "colab": {
      "provenance": [],
      "authorship_tag": "ABX9TyOX3zmyuhtDlqbTwzjW5thV",
      "include_colab_link": true
    },
    "kernelspec": {
      "name": "python3",
      "display_name": "Python 3"
    },
    "language_info": {
      "name": "python"
    }
  },
  "cells": [
    {
      "cell_type": "markdown",
      "metadata": {
        "id": "view-in-github",
        "colab_type": "text"
      },
      "source": [
        "<a href=\"https://colab.research.google.com/github/ProfOJ/247shopgh/blob/master/Untitled0.ipynb\" target=\"_parent\"><img src=\"https://colab.research.google.com/assets/colab-badge.svg\" alt=\"Open In Colab\"/></a>"
      ]
    },
    {
      "cell_type": "code",
      "execution_count": 9,
      "metadata": {
        "colab": {
          "base_uri": "https://localhost:8080/"
        },
        "id": "AkdYwsp4ED8U",
        "outputId": "253b81f6-77c3-4cc5-80a0-78f2de81c645"
      },
      "outputs": [
        {
          "output_type": "stream",
          "name": "stdout",
          "text": [
            "1.0\n"
          ]
        }
      ],
      "source": [
        "import re\n",
        "import datetime\n",
        "from collections import defaultdict\n",
        "\n",
        "transactions = defaultdict(dict)\n",
        "# Parse File ans store times and ids in dictionary\n",
        "with open('exam.log', 'r') as f:\n",
        "    all_lines = f.readlines()\n",
        "    trans_regex = r'transaction\\s(\\d+)'\n",
        "    time_regex = r'\\d+:\\d+:\\d+.\\d+'\n",
        "    for line in all_lines:\n",
        "        m = re.search(trans_regex, line)\n",
        "        t = re.search(time_regex, line)\n",
        "\n",
        "        time_str = t.group(0) \n",
        "        time = datetime.datetime.strptime(time_str, '%H:%M:%S.%f')\n",
        "\n",
        "        if m is not None:\n",
        "        \n",
        "            ID = m.group(1)\n",
        "            if 'begin' in line:\n",
        "                transactions[ID]['start'] = time\n",
        "            if 'end' in line:\n",
        "                transactions[ID]['end'] = time\n",
        "\n",
        "            if 'end' in transactions[ID] and 'start' in transactions[ID]:\n",
        "                fastest_time = transactions[ID]['end'] - transactions[ID]['start']\n",
        "                transactions[ID]['fastest'] = fastest_time.total_seconds() * 1000 # x1000 for milisecs\n",
        "\n",
        "# After file read\n",
        "min_time = float('inf')\n",
        "min_id = None\n",
        "total_time = 0\n",
        "fastest_count = 0\n",
        "for ID, data in transactions.items():\n",
        "    if 'fastest' in data: \n",
        "        total_time = data['fastest']\n",
        "        fastest_count += 1\n",
        "\n",
        "print(total_time / fastest_count)"
      ]
    }
  ]
}